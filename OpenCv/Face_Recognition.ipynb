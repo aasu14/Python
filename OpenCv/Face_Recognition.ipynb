{
  "nbformat": 4,
  "nbformat_minor": 0,
  "metadata": {
    "anaconda-cloud": {},
    "kernelspec": {
      "display_name": "Python [conda root]",
      "language": "python",
      "name": "conda-root-py"
    },
    "language_info": {
      "codemirror_mode": {
        "name": "ipython",
        "version": 3
      },
      "file_extension": ".py",
      "mimetype": "text/x-python",
      "name": "python",
      "nbconvert_exporter": "python",
      "pygments_lexer": "ipython3",
      "version": "3.5.2"
    },
    "colab": {
      "name": "Face_Recognition.ipynb",
      "provenance": [],
      "collapsed_sections": []
    }
  },
  "cells": [
    {
      "cell_type": "code",
      "metadata": {
        "id": "-91empyo3Pxf",
        "colab_type": "code",
        "outputId": "8a418a56-b031-4b47-aade-b8b09adb9dc1",
        "colab": {}
      },
      "source": [
        "from keras.applications.resnet50 import ResNet50\n",
        "from keras.preprocessing import image\n",
        "from keras.applications.resnet50 import preprocess_input, decode_predictions\n",
        "import numpy as np"
      ],
      "execution_count": 0,
      "outputs": [
        {
          "output_type": "stream",
          "text": [
            "Using TensorFlow backend.\n"
          ],
          "name": "stderr"
        }
      ]
    },
    {
      "cell_type": "code",
      "metadata": {
        "id": "XOAKclfC3Pxu",
        "colab_type": "code",
        "colab": {}
      },
      "source": [
        "import matplotlib.pyplot as plt"
      ],
      "execution_count": 0,
      "outputs": []
    },
    {
      "cell_type": "code",
      "metadata": {
        "id": "sI0BlEYl3Px0",
        "colab_type": "code",
        "colab": {}
      },
      "source": [
        "# reterive weights of ResNet, that is trained on imageNet data\n",
        "model = ResNet50(weights='imagenet')"
      ],
      "execution_count": 0,
      "outputs": []
    },
    {
      "cell_type": "code",
      "metadata": {
        "id": "JdMhshew3Px4",
        "colab_type": "code",
        "colab": {}
      },
      "source": [
        "import cv2"
      ],
      "execution_count": 0,
      "outputs": []
    },
    {
      "cell_type": "code",
      "metadata": {
        "id": "Cjc-m4DG3Px8",
        "colab_type": "code",
        "colab": {}
      },
      "source": [
        "# The block of code below opens up the web-cam and capture the frames that are converted to grayscale\n",
        "cap = cv2.VideoCapture(0)\n",
        "i = 0\n",
        "while(True):\n",
        "    # Capture frame-by-frame\n",
        "    ret, frame = cap.read()\n",
        "\n",
        "    # Our operations on the frame come here\n",
        "    gray = cv2.cvtColor(frame, cv2.COLOR_BGR2GRAY)\n",
        "\n",
        "    # Display the resulting frame\n",
        "    cv2.imshow('frame',gray)\n",
        "    if cv2.waitKey(1) & 0xFF == ord('q'):\n",
        "        break\n",
        "    i +=1\n",
        "    \n",
        "    if(i>100):\n",
        "        break"
      ],
      "execution_count": 0,
      "outputs": []
    },
    {
      "cell_type": "code",
      "metadata": {
        "id": "J8r91Vak3PyA",
        "colab_type": "code",
        "colab": {}
      },
      "source": [
        "# When everything done, release the capture\n",
        "cap.release()\n",
        "cv2.destroyAllWindows()"
      ],
      "execution_count": 0,
      "outputs": []
    },
    {
      "cell_type": "code",
      "metadata": {
        "id": "OQZn0T3B3PyE",
        "colab_type": "code",
        "colab": {}
      },
      "source": [
        "#Resize frame\n",
        "frame = cv2.resize(frame, (224, 224))"
      ],
      "execution_count": 0,
      "outputs": []
    },
    {
      "cell_type": "code",
      "metadata": {
        "id": "VlKFO-Hk5F_i",
        "colab_type": "code",
        "colab": {}
      },
      "source": [
        "plt.imshow(frame)\n",
        "plt.show()"
      ],
      "execution_count": 0,
      "outputs": []
    },
    {
      "cell_type": "code",
      "metadata": {
        "id": "-8I2O9Ik39Ny",
        "colab_type": "code",
        "colab": {}
      },
      "source": [
        ""
      ],
      "execution_count": 0,
      "outputs": []
    },
    {
      "cell_type": "code",
      "metadata": {
        "id": "Jd3j-GBx3uT-",
        "colab_type": "code",
        "colab": {}
      },
      "source": [
        "from keras.models import Sequential\n",
        "from keras.layers import Conv2D, ZeroPadding2D, Activation, Input, concatenate\n",
        "from keras.models import Model\n",
        "from keras.layers.normalization import BatchNormalization\n",
        "from keras.layers.pooling import MaxPooling2D, AveragePooling2D\n",
        "from keras.layers.merge import Concatenate\n",
        "from keras.layers.core import Lambda, Flatten, Dense\n",
        "from keras.engine.topology import Layer\n",
        "from keras import backend as K\n",
        "import cv2\n",
        "import os\n",
        "import numpy as np\n",
        "from numpy import genfromtxt\n",
        "import pandas as pd\n",
        "import tensorflow as tf\n",
        "from utils import LRN2D\n",
        "import utils\n",
        "\n",
        "%load_ext autoreload\n",
        "%autoreload 2\n",
        "\n",
        "np.set_printoptions(threshold=np.nan)"
      ],
      "execution_count": 0,
      "outputs": []
    },
    {
      "cell_type": "code",
      "metadata": {
        "id": "idZOHiRg3wdN",
        "colab_type": "code",
        "colab": {}
      },
      "source": [
        "myInput = Input(shape=(96, 96, 3))\n",
        "\n",
        "x = ZeroPadding2D(padding=(3, 3), input_shape=(96, 96, 3))(myInput)\n",
        "x = Conv2D(64, (7, 7), strides=(2, 2), name='conv1')(x)\n",
        "x = BatchNormalization(axis=3, epsilon=0.00001, name='bn1')(x)\n",
        "x = Activation('relu')(x)\n",
        "x = ZeroPadding2D(padding=(1, 1))(x)\n",
        "x = MaxPooling2D(pool_size=3, strides=2)(x)\n",
        "x = Lambda(LRN2D, name='lrn_1')(x)\n",
        "x = Conv2D(64, (1, 1), name='conv2')(x)\n",
        "x = BatchNormalization(axis=3, epsilon=0.00001, name='bn2')(x)\n",
        "x = Activation('relu')(x)\n",
        "x = ZeroPadding2D(padding=(1, 1))(x)\n",
        "x = Conv2D(192, (3, 3), name='conv3')(x)\n",
        "x = BatchNormalization(axis=3, epsilon=0.00001, name='bn3')(x)\n",
        "x = Activation('relu')(x)\n",
        "x = Lambda(LRN2D, name='lrn_2')(x)\n",
        "x = ZeroPadding2D(padding=(1, 1))(x)\n",
        "x = MaxPooling2D(pool_size=3, strides=2)(x)\n",
        "\n",
        "# Inception3a\n",
        "inception_3a_3x3 = Conv2D(96, (1, 1), name='inception_3a_3x3_conv1')(x)\n",
        "inception_3a_3x3 = BatchNormalization(axis=3, epsilon=0.00001, name='inception_3a_3x3_bn1')(inception_3a_3x3)\n",
        "inception_3a_3x3 = Activation('relu')(inception_3a_3x3)\n",
        "inception_3a_3x3 = ZeroPadding2D(padding=(1, 1))(inception_3a_3x3)\n",
        "inception_3a_3x3 = Conv2D(128, (3, 3), name='inception_3a_3x3_conv2')(inception_3a_3x3)\n",
        "inception_3a_3x3 = BatchNormalization(axis=3, epsilon=0.00001, name='inception_3a_3x3_bn2')(inception_3a_3x3)\n",
        "inception_3a_3x3 = Activation('relu')(inception_3a_3x3)\n",
        "\n",
        "inception_3a_5x5 = Conv2D(16, (1, 1), name='inception_3a_5x5_conv1')(x)\n",
        "inception_3a_5x5 = BatchNormalization(axis=3, epsilon=0.00001, name='inception_3a_5x5_bn1')(inception_3a_5x5)\n",
        "inception_3a_5x5 = Activation('relu')(inception_3a_5x5)\n",
        "inception_3a_5x5 = ZeroPadding2D(padding=(2, 2))(inception_3a_5x5)\n",
        "inception_3a_5x5 = Conv2D(32, (5, 5), name='inception_3a_5x5_conv2')(inception_3a_5x5)\n",
        "inception_3a_5x5 = BatchNormalization(axis=3, epsilon=0.00001, name='inception_3a_5x5_bn2')(inception_3a_5x5)\n",
        "inception_3a_5x5 = Activation('relu')(inception_3a_5x5)\n",
        "\n",
        "inception_3a_pool = MaxPooling2D(pool_size=3, strides=2)(x)\n",
        "inception_3a_pool = Conv2D(32, (1, 1), name='inception_3a_pool_conv')(inception_3a_pool)\n",
        "inception_3a_pool = BatchNormalization(axis=3, epsilon=0.00001, name='inception_3a_pool_bn')(inception_3a_pool)\n",
        "inception_3a_pool = Activation('relu')(inception_3a_pool)\n",
        "inception_3a_pool = ZeroPadding2D(padding=((3, 4), (3, 4)))(inception_3a_pool)\n",
        "\n",
        "inception_3a_1x1 = Conv2D(64, (1, 1), name='inception_3a_1x1_conv')(x)\n",
        "inception_3a_1x1 = BatchNormalization(axis=3, epsilon=0.00001, name='inception_3a_1x1_bn')(inception_3a_1x1)\n",
        "inception_3a_1x1 = Activation('relu')(inception_3a_1x1)\n",
        "\n",
        "inception_3a = concatenate([inception_3a_3x3, inception_3a_5x5, inception_3a_pool, inception_3a_1x1], axis=3)\n",
        "\n",
        "# Inception3b\n",
        "inception_3b_3x3 = Conv2D(96, (1, 1), name='inception_3b_3x3_conv1')(inception_3a)\n",
        "inception_3b_3x3 = BatchNormalization(axis=3, epsilon=0.00001, name='inception_3b_3x3_bn1')(inception_3b_3x3)\n",
        "inception_3b_3x3 = Activation('relu')(inception_3b_3x3)\n",
        "inception_3b_3x3 = ZeroPadding2D(padding=(1, 1))(inception_3b_3x3)\n",
        "inception_3b_3x3 = Conv2D(128, (3, 3), name='inception_3b_3x3_conv2')(inception_3b_3x3)\n",
        "inception_3b_3x3 = BatchNormalization(axis=3, epsilon=0.00001, name='inception_3b_3x3_bn2')(inception_3b_3x3)\n",
        "inception_3b_3x3 = Activation('relu')(inception_3b_3x3)\n",
        "\n",
        "inception_3b_5x5 = Conv2D(32, (1, 1), name='inception_3b_5x5_conv1')(inception_3a)\n",
        "inception_3b_5x5 = BatchNormalization(axis=3, epsilon=0.00001, name='inception_3b_5x5_bn1')(inception_3b_5x5)\n",
        "inception_3b_5x5 = Activation('relu')(inception_3b_5x5)\n",
        "inception_3b_5x5 = ZeroPadding2D(padding=(2, 2))(inception_3b_5x5)\n",
        "inception_3b_5x5 = Conv2D(64, (5, 5), name='inception_3b_5x5_conv2')(inception_3b_5x5)\n",
        "inception_3b_5x5 = BatchNormalization(axis=3, epsilon=0.00001, name='inception_3b_5x5_bn2')(inception_3b_5x5)\n",
        "inception_3b_5x5 = Activation('relu')(inception_3b_5x5)\n",
        "\n",
        "inception_3b_pool = Lambda(lambda x: x**2, name='power2_3b')(inception_3a)\n",
        "inception_3b_pool = AveragePooling2D(pool_size=(3, 3), strides=(3, 3))(inception_3b_pool)\n",
        "inception_3b_pool = Lambda(lambda x: x*9, name='mult9_3b')(inception_3b_pool)\n",
        "inception_3b_pool = Lambda(lambda x: K.sqrt(x), name='sqrt_3b')(inception_3b_pool)\n",
        "inception_3b_pool = Conv2D(64, (1, 1), name='inception_3b_pool_conv')(inception_3b_pool)\n",
        "inception_3b_pool = BatchNormalization(axis=3, epsilon=0.00001, name='inception_3b_pool_bn')(inception_3b_pool)\n",
        "inception_3b_pool = Activation('relu')(inception_3b_pool)\n",
        "inception_3b_pool = ZeroPadding2D(padding=(4, 4))(inception_3b_pool)\n",
        "\n",
        "inception_3b_1x1 = Conv2D(64, (1, 1), name='inception_3b_1x1_conv')(inception_3a)\n",
        "inception_3b_1x1 = BatchNormalization(axis=3, epsilon=0.00001, name='inception_3b_1x1_bn')(inception_3b_1x1)\n",
        "inception_3b_1x1 = Activation('relu')(inception_3b_1x1)\n",
        "\n",
        "inception_3b = concatenate([inception_3b_3x3, inception_3b_5x5, inception_3b_pool, inception_3b_1x1], axis=3)\n",
        "\n",
        "# Inception3c\n",
        "inception_3c_3x3 = utils.conv2d_bn(inception_3b,\n",
        "                                   layer='inception_3c_3x3',\n",
        "                                   cv1_out=128,\n",
        "                                   cv1_filter=(1, 1),\n",
        "                                   cv2_out=256,\n",
        "                                   cv2_filter=(3, 3),\n",
        "                                   cv2_strides=(2, 2),\n",
        "                                   padding=(1, 1))\n",
        "\n",
        "inception_3c_5x5 = utils.conv2d_bn(inception_3b,\n",
        "                                   layer='inception_3c_5x5',\n",
        "                                   cv1_out=32,\n",
        "                                   cv1_filter=(1, 1),\n",
        "                                   cv2_out=64,\n",
        "                                   cv2_filter=(5, 5),\n",
        "                                   cv2_strides=(2, 2),\n",
        "                                   padding=(2, 2))\n",
        "\n",
        "inception_3c_pool = MaxPooling2D(pool_size=3, strides=2)(inception_3b)\n",
        "inception_3c_pool = ZeroPadding2D(padding=((0, 1), (0, 1)))(inception_3c_pool)\n",
        "\n",
        "inception_3c = concatenate([inception_3c_3x3, inception_3c_5x5, inception_3c_pool], axis=3)\n",
        "\n",
        "#inception 4a\n",
        "inception_4a_3x3 = utils.conv2d_bn(inception_3c,\n",
        "                                   layer='inception_4a_3x3',\n",
        "                                   cv1_out=96,\n",
        "                                   cv1_filter=(1, 1),\n",
        "                                   cv2_out=192,\n",
        "                                   cv2_filter=(3, 3),\n",
        "                                   cv2_strides=(1, 1),\n",
        "                                   padding=(1, 1))\n",
        "inception_4a_5x5 = utils.conv2d_bn(inception_3c,\n",
        "                                   layer='inception_4a_5x5',\n",
        "                                   cv1_out=32,\n",
        "                                   cv1_filter=(1, 1),\n",
        "                                   cv2_out=64,\n",
        "                                   cv2_filter=(5, 5),\n",
        "                                   cv2_strides=(1, 1),\n",
        "                                   padding=(2, 2))\n",
        "\n",
        "inception_4a_pool = Lambda(lambda x: x**2, name='power2_4a')(inception_3c)\n",
        "inception_4a_pool = AveragePooling2D(pool_size=(3, 3), strides=(3, 3))(inception_4a_pool)\n",
        "inception_4a_pool = Lambda(lambda x: x*9, name='mult9_4a')(inception_4a_pool)\n",
        "inception_4a_pool = Lambda(lambda x: K.sqrt(x), name='sqrt_4a')(inception_4a_pool)\n",
        "inception_4a_pool = utils.conv2d_bn(inception_4a_pool,\n",
        "                                   layer='inception_4a_pool',\n",
        "                                   cv1_out=128,\n",
        "                                   cv1_filter=(1, 1),\n",
        "                                   padding=(2, 2))\n",
        "inception_4a_1x1 = utils.conv2d_bn(inception_3c,\n",
        "                                   layer='inception_4a_1x1',\n",
        "                                   cv1_out=256,\n",
        "                                   cv1_filter=(1, 1))\n",
        "inception_4a = concatenate([inception_4a_3x3, inception_4a_5x5, inception_4a_pool, inception_4a_1x1], axis=3)\n",
        "\n",
        "#inception4e\n",
        "inception_4e_3x3 = utils.conv2d_bn(inception_4a,\n",
        "                                   layer='inception_4e_3x3',\n",
        "                                   cv1_out=160,\n",
        "                                   cv1_filter=(1, 1),\n",
        "                                   cv2_out=256,\n",
        "                                   cv2_filter=(3, 3),\n",
        "                                   cv2_strides=(2, 2),\n",
        "                                   padding=(1, 1))\n",
        "inception_4e_5x5 = utils.conv2d_bn(inception_4a,\n",
        "                                   layer='inception_4e_5x5',\n",
        "                                   cv1_out=64,\n",
        "                                   cv1_filter=(1, 1),\n",
        "                                   cv2_out=128,\n",
        "                                   cv2_filter=(5, 5),\n",
        "                                   cv2_strides=(2, 2),\n",
        "                                   padding=(2, 2))\n",
        "inception_4e_pool = MaxPooling2D(pool_size=3, strides=2)(inception_4a)\n",
        "inception_4e_pool = ZeroPadding2D(padding=((0, 1), (0, 1)))(inception_4e_pool)\n",
        "\n",
        "inception_4e = concatenate([inception_4e_3x3, inception_4e_5x5, inception_4e_pool], axis=3)\n",
        "\n",
        "#inception5a\n",
        "inception_5a_3x3 = utils.conv2d_bn(inception_4e,\n",
        "                                   layer='inception_5a_3x3',\n",
        "                                   cv1_out=96,\n",
        "                                   cv1_filter=(1, 1),\n",
        "                                   cv2_out=384,\n",
        "                                   cv2_filter=(3, 3),\n",
        "                                   cv2_strides=(1, 1),\n",
        "                                   padding=(1, 1))\n",
        "\n",
        "inception_5a_pool = Lambda(lambda x: x**2, name='power2_5a')(inception_4e)\n",
        "inception_5a_pool = AveragePooling2D(pool_size=(3, 3), strides=(3, 3))(inception_5a_pool)\n",
        "inception_5a_pool = Lambda(lambda x: x*9, name='mult9_5a')(inception_5a_pool)\n",
        "inception_5a_pool = Lambda(lambda x: K.sqrt(x), name='sqrt_5a')(inception_5a_pool)\n",
        "inception_5a_pool = utils.conv2d_bn(inception_5a_pool,\n",
        "                                   layer='inception_5a_pool',\n",
        "                                   cv1_out=96,\n",
        "                                   cv1_filter=(1, 1),\n",
        "                                   padding=(1, 1))\n",
        "inception_5a_1x1 = utils.conv2d_bn(inception_4e,\n",
        "                                   layer='inception_5a_1x1',\n",
        "                                   cv1_out=256,\n",
        "                                   cv1_filter=(1, 1))\n",
        "\n",
        "inception_5a = concatenate([inception_5a_3x3, inception_5a_pool, inception_5a_1x1], axis=3)\n",
        "\n",
        "#inception_5b\n",
        "inception_5b_3x3 = utils.conv2d_bn(inception_5a,\n",
        "                                   layer='inception_5b_3x3',\n",
        "                                   cv1_out=96,\n",
        "                                   cv1_filter=(1, 1),\n",
        "                                   cv2_out=384,\n",
        "                                   cv2_filter=(3, 3),\n",
        "                                   cv2_strides=(1, 1),\n",
        "                                   padding=(1, 1))\n",
        "inception_5b_pool = MaxPooling2D(pool_size=3, strides=2)(inception_5a)\n",
        "inception_5b_pool = utils.conv2d_bn(inception_5b_pool,\n",
        "                                   layer='inception_5b_pool',\n",
        "                                   cv1_out=96,\n",
        "                                   cv1_filter=(1, 1))\n",
        "inception_5b_pool = ZeroPadding2D(padding=(1, 1))(inception_5b_pool)\n",
        "\n",
        "inception_5b_1x1 = utils.conv2d_bn(inception_5a,\n",
        "                                   layer='inception_5b_1x1',\n",
        "                                   cv1_out=256,\n",
        "                                   cv1_filter=(1, 1))\n",
        "inception_5b = concatenate([inception_5b_3x3, inception_5b_pool, inception_5b_1x1], axis=3)\n",
        "\n",
        "av_pool = AveragePooling2D(pool_size=(3, 3), strides=(1, 1))(inception_5b)\n",
        "reshape_layer = Flatten()(av_pool)\n",
        "dense_layer = Dense(128, name='dense_layer')(reshape_layer)\n",
        "norm_layer = Lambda(lambda  x: K.l2_normalize(x, axis=1), name='norm_layer')(dense_layer)\n",
        "\n",
        "\n",
        "# Final Model\n",
        "model = Model(inputs=[myInput], outputs=norm_layer)"
      ],
      "execution_count": 0,
      "outputs": []
    },
    {
      "cell_type": "code",
      "metadata": {
        "id": "8v2vibD938K1",
        "colab_type": "code",
        "colab": {}
      },
      "source": [
        ""
      ],
      "execution_count": 0,
      "outputs": []
    },
    {
      "cell_type": "code",
      "metadata": {
        "id": "6yL3cCmV3PyL",
        "colab_type": "code",
        "colab": {}
      },
      "source": [
        "frame = frame.astype(float)"
      ],
      "execution_count": 0,
      "outputs": []
    },
    {
      "cell_type": "code",
      "metadata": {
        "id": "0EnCzG5E3PyQ",
        "colab_type": "code",
        "colab": {}
      },
      "source": [
        "# assign frame to x\n",
        "x=frame\n",
        "\n",
        "x = np.expand_dims(x, axis=0)\n",
        "x = preprocess_input(x)"
      ],
      "execution_count": 0,
      "outputs": []
    },
    {
      "cell_type": "code",
      "metadata": {
        "id": "2pZufFh54pE2",
        "colab_type": "code",
        "colab": {}
      },
      "source": [
        "preds = model.predict(x)\n",
        "# decode the results into a list of tuples (class, description, probability)\n",
        "# (one such list for each sample in the batch)\n",
        "print('Predicted:', decode_predictions(preds, top=3)[0])"
      ],
      "execution_count": 0,
      "outputs": []
    },
    {
      "cell_type": "code",
      "metadata": {
        "id": "wvf9WXs_3PyZ",
        "colab_type": "code",
        "colab": {}
      },
      "source": [
        "from keras.applications.inception_v3 import InceptionV3\n",
        "from keras.preprocessing import image\n",
        "from keras.models import Model\n",
        "from keras.layers import Dense, GlobalAveragePooling2D\n",
        "from keras import backend as K\n",
        "\n",
        "from keras.applications.resnet50 import ResNet50\n",
        "from keras.preprocessing import image\n",
        "from keras.applications.resnet50 import preprocess_input, decode_predictions\n",
        "import numpy as np"
      ],
      "execution_count": 0,
      "outputs": []
    },
    {
      "cell_type": "code",
      "metadata": {
        "id": "-L8h4uv23Pyc",
        "colab_type": "code",
        "colab": {}
      },
      "source": [
        "# create the base pre-trained model\n",
        "base_model = InceptionV3(weights='imagenet', include_top=False)"
      ],
      "execution_count": 0,
      "outputs": []
    },
    {
      "cell_type": "code",
      "metadata": {
        "id": "hf2ku8Y43Pyf",
        "colab_type": "code",
        "colab": {}
      },
      "source": [
        "x = base_model.output\n",
        "x = GlobalAveragePooling2D()(x)\n",
        "# let's add a fully-connected layer\n",
        "x = Dense(1024, activation='relu')(x)\n",
        "# and a logistic layer -- let's say we have 2 class\n",
        "predictions = Dense(2, activation='softmax')(x)"
      ],
      "execution_count": 0,
      "outputs": []
    },
    {
      "cell_type": "code",
      "metadata": {
        "id": "Cfx1b5Fj3Pyj",
        "colab_type": "code",
        "colab": {}
      },
      "source": [
        "# this is the model we will train\n",
        "model = Model(inputs=base_model.input, outputs=predictions)"
      ],
      "execution_count": 0,
      "outputs": []
    },
    {
      "cell_type": "code",
      "metadata": {
        "id": "dzCoX24f3Pym",
        "colab_type": "code",
        "colab": {}
      },
      "source": [
        "# first: train only the top layers (which were randomly initialized)\n",
        "# i.e. freeze all convolutional InceptionV3 layers\n",
        "for layer in base_model.layers:\n",
        "    layer.trainable = False"
      ],
      "execution_count": 0,
      "outputs": []
    },
    {
      "cell_type": "code",
      "metadata": {
        "id": "Ax4nRKZ03Pyr",
        "colab_type": "code",
        "colab": {}
      },
      "source": [
        "# compile the model (should be done *after* setting layers to non-trainable)\n",
        "model.compile(optimizer='rmsprop', loss='categorical_crossentropy')"
      ],
      "execution_count": 0,
      "outputs": []
    },
    {
      "cell_type": "code",
      "metadata": {
        "id": "lTzbvvNo3Pyv",
        "colab_type": "code",
        "colab": {}
      },
      "source": [
        "from keras.preprocessing.image import ImageDataGenerator\n",
        "import numpy as np"
      ],
      "execution_count": 0,
      "outputs": []
    },
    {
      "cell_type": "code",
      "metadata": {
        "id": "52yndTGz3Pyy",
        "colab_type": "code",
        "colab": {}
      },
      "source": [
        "batch_size = 16\n",
        "\n",
        "# this is the augmentation configuration we will use for training\n",
        "train_datagen = ImageDataGenerator(\n",
        "        rescale=1./255,\n",
        "        shear_range=0.2,\n",
        "        zoom_range=0.2,\n",
        "        horizontal_flip=True)"
      ],
      "execution_count": 0,
      "outputs": []
    },
    {
      "cell_type": "code",
      "metadata": {
        "id": "08pesIw93Py1",
        "colab_type": "code",
        "outputId": "23d37c18-84ab-4ee7-e42e-702a0b90f01a",
        "colab": {}
      },
      "source": [
        "train_generator = train_datagen.flow_from_directory(\n",
        "        'test data',  # this is the target directory\n",
        "        target_size=(224, 224),  # all images will be resized to 150x150\n",
        "        batch_size=batch_size)"
      ],
      "execution_count": 0,
      "outputs": [
        {
          "output_type": "stream",
          "text": [
            "Found 14 images belonging to 2 classes.\n"
          ],
          "name": "stdout"
        }
      ]
    },
    {
      "cell_type": "code",
      "metadata": {
        "scrolled": true,
        "id": "L01U8It93Py6",
        "colab_type": "code",
        "outputId": "ca2652ca-0b67-4363-c973-33aff389a484",
        "colab": {}
      },
      "source": [
        "model.fit_generator(train_generator, epochs=15, steps_per_epoch=10)"
      ],
      "execution_count": 0,
      "outputs": [
        {
          "output_type": "stream",
          "text": [
            "Epoch 1/15\n",
            "10/10 [==============================] - 71s - loss: 6.2934    \n",
            "Epoch 2/15\n",
            "10/10 [==============================] - 74s - loss: 6.9078    \n",
            "Epoch 3/15\n",
            "10/10 [==============================] - 80s - loss: 6.9078    \n",
            "Epoch 4/15\n",
            "10/10 [==============================] - 73s - loss: 6.9078    \n",
            "Epoch 5/15\n",
            "10/10 [==============================] - 83s - loss: 6.9078    \n",
            "Epoch 6/15\n",
            "10/10 [==============================] - 76s - loss: 6.9078    \n",
            "Epoch 7/15\n",
            "10/10 [==============================] - 76s - loss: 6.9078    \n",
            "Epoch 8/15\n",
            "10/10 [==============================] - 74s - loss: 6.2848    \n",
            "Epoch 9/15\n",
            "10/10 [==============================] - 76s - loss: 6.9078    \n",
            "Epoch 10/15\n",
            "10/10 [==============================] - 74s - loss: 6.9078    \n",
            "Epoch 11/15\n",
            "10/10 [==============================] - 78s - loss: 6.9078    \n",
            "Epoch 12/15\n",
            "10/10 [==============================] - 76s - loss: 6.9078    \n",
            "Epoch 13/15\n",
            "10/10 [==============================] - 78s - loss: 6.9078    \n",
            "Epoch 14/15\n",
            "10/10 [==============================] - 74s - loss: 6.9078    \n",
            "Epoch 15/15\n",
            "10/10 [==============================] - 78s - loss: 6.9078    \n"
          ],
          "name": "stdout"
        },
        {
          "output_type": "execute_result",
          "data": {
            "text/plain": [
              "<keras.callbacks.History at 0x20abe0165c0>"
            ]
          },
          "metadata": {
            "tags": []
          },
          "execution_count": 186
        }
      ]
    },
    {
      "cell_type": "code",
      "metadata": {
        "id": "ezzENe7B3Py-",
        "colab_type": "code",
        "colab": {}
      },
      "source": [
        "# Read imgaes from local directory\n",
        "# Image Preprocessing\n",
        "img_path = 'test data/a/5.jpg'\n",
        "img = image.load_img(img_path, target_size=(224, 224))\n",
        "x = image.img_to_array(img)\n",
        "x = np.expand_dims(x, axis=0)\n",
        "x = preprocess_input(x)"
      ],
      "execution_count": 0,
      "outputs": []
    },
    {
      "cell_type": "code",
      "metadata": {
        "id": "cvJLdo2B3PzB",
        "colab_type": "code",
        "colab": {}
      },
      "source": [
        "preds = model.predict(x)"
      ],
      "execution_count": 0,
      "outputs": []
    },
    {
      "cell_type": "code",
      "metadata": {
        "id": "y-4flpeB3PzE",
        "colab_type": "code",
        "outputId": "231dd958-bf38-4f09-9272-6f7556a831da",
        "colab": {}
      },
      "source": [
        "print(preds)"
      ],
      "execution_count": 0,
      "outputs": [
        {
          "output_type": "stream",
          "text": [
            "[[ 1.  0.]]\n"
          ],
          "name": "stdout"
        }
      ]
    },
    {
      "cell_type": "code",
      "metadata": {
        "id": "s8Vu8lZX40eq",
        "colab_type": "code",
        "colab": {}
      },
      "source": [
        "train_generator.class_indices"
      ],
      "execution_count": 0,
      "outputs": []
    },
    {
      "cell_type": "code",
      "metadata": {
        "id": "kBly8Pfv43Jg",
        "colab_type": "code",
        "colab": {}
      },
      "source": [
        "import matplotlib.pyplot as plt\n",
        "\n",
        "plt.imshow(img)\n",
        "plt.show()"
      ],
      "execution_count": 0,
      "outputs": []
    },
    {
      "cell_type": "code",
      "metadata": {
        "id": "MF8B0HzU3PzO",
        "colab_type": "code",
        "colab": {}
      },
      "source": [
        "cap = cv2.VideoCapture(0)\n",
        "i = 0\n",
        "while(True):\n",
        "    # Capture frame-by-frame\n",
        "    ret, frame = cap.read()\n",
        "\n",
        "    # Our operations on the frame come here\n",
        "    gray = cv2.cvtColor(frame, cv2.COLOR_BGR2GRAY)\n",
        "\n",
        "    # Display the resulting frame\n",
        "    cv2.imshow('frame',gray)\n",
        "    if cv2.waitKey(1) & 0xFF == ord('q'):\n",
        "        break\n",
        "    i +=1\n",
        "    \n",
        "    if(i>100):\n",
        "        break"
      ],
      "execution_count": 0,
      "outputs": []
    },
    {
      "cell_type": "code",
      "metadata": {
        "id": "_FuSb55F3PzR",
        "colab_type": "code",
        "colab": {}
      },
      "source": [
        "# When everything done, release the capture\n",
        "cap.release()\n",
        "cv2.destroyAllWindows()"
      ],
      "execution_count": 0,
      "outputs": []
    },
    {
      "cell_type": "code",
      "metadata": {
        "id": "R1NrX23A46Lp",
        "colab_type": "code",
        "colab": {}
      },
      "source": [
        "frame = cv2.resize(frame, (224, 224))\n",
        "plt.imshow(frame)\n",
        "plt.show()"
      ],
      "execution_count": 0,
      "outputs": []
    },
    {
      "cell_type": "code",
      "metadata": {
        "id": "K0VFi1qc3PzX",
        "colab_type": "code",
        "colab": {}
      },
      "source": [
        "frame = frame.astype(float)"
      ],
      "execution_count": 0,
      "outputs": []
    },
    {
      "cell_type": "code",
      "metadata": {
        "id": "tYeDTuf03PzZ",
        "colab_type": "code",
        "colab": {}
      },
      "source": [
        "x = image.img_to_array(frame)\n",
        "x = np.expand_dims(x, axis=0)\n",
        "x = preprocess_input(x)"
      ],
      "execution_count": 0,
      "outputs": []
    },
    {
      "cell_type": "code",
      "metadata": {
        "id": "mBXtuipD4-hj",
        "colab_type": "code",
        "colab": {}
      },
      "source": [
        "preds = model.predict(x)\n",
        "print(preds)\n",
        "train_generator.class_indices"
      ],
      "execution_count": 0,
      "outputs": []
    }
  ]
}